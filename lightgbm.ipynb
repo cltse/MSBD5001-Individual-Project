{
 "cells": [
  {
   "cell_type": "code",
   "execution_count": 1,
   "id": "c9d59591-05a9-4373-b227-3b240e029b35",
   "metadata": {},
   "outputs": [],
   "source": [
    "import numpy as np\n",
    "import pandas as pd\n",
    "import lightgbm as lgb\n",
    "from sklearn.metrics import accuracy_score, roc_auc_score\n",
    "import warnings\n",
    "warnings.filterwarnings(\"ignore\")\n",
    "from sklearn.model_selection import KFold, StratifiedKFold"
   ]
  },
  {
   "cell_type": "code",
   "execution_count": 2,
   "id": "4021c838-ae03-4f59-b762-baad4ed3a3c2",
   "metadata": {},
   "outputs": [],
   "source": [
    "train = pd.read_csv('train.csv',index_col=0)\n",
    "test = pd.read_csv('test.csv',index_col=0)"
   ]
  },
  {
   "cell_type": "code",
   "execution_count": 3,
   "id": "c84b96d2-a50e-4320-a681-bf2ed814cd65",
   "metadata": {
    "tags": []
   },
   "outputs": [],
   "source": [
    "# feature augmentation based on lgbm feature importance\n",
    "gen_feats = [(1, 5),\n",
    "             (0, 1),\n",
    "             (2, 1),\n",
    "             (1, 3),\n",
    "             (2, 5),\n",
    "             (0, 2),\n",
    "             (0, 5),\n",
    "             (4, 1),\n",
    "             (5, 4),\n",
    "             (3, 5),\n",
    "             (0, 4)]\n",
    "for i in range(6):\n",
    "    for j in range(6):\n",
    "        if (i,j) in gen_feats:\n",
    "            train['gen_{}_{}'.format(i,j)] = train.iloc[:,i]/train.iloc[:,j]\n",
    "            test['gen_{}_{}'.format(i,j)] = test.iloc[:,i]/test.iloc[:,j]"
   ]
  },
  {
   "cell_type": "code",
   "execution_count": 4,
   "id": "61b63154-082d-41dd-b835-f7b95be0600b",
   "metadata": {},
   "outputs": [],
   "source": [
    "features = [col for col in train.columns if col != 'label']\n",
    "num_folds = 10\n",
    "folds = StratifiedKFold(n_splits= num_folds, shuffle=True, random_state=5001)"
   ]
  },
  {
   "cell_type": "code",
   "execution_count": 5,
   "id": "75df17fe-2796-49f8-b82c-f3e4677af17e",
   "metadata": {},
   "outputs": [],
   "source": [
    "# from bayesian optimization\n",
    "params = {\n",
    "    'boosting_type': 'gbdt', \n",
    "    'objective': 'binary', \n",
    "    'metric': 'auc',\n",
    "    'device_type': 'cpu',\n",
    "    'random_state': 5001,\n",
    "    'verbose': -1,\n",
    "    'learning_rate': 0.0266903682740756,\n",
    "    'n_estimators': 130,\n",
    "    'num_leaves': 57,\n",
    "    'max_depth': -1,\n",
    "    'subsample': 0.6042971686279393,\n",
    "    'subsample_freq': 6,\n",
    "    'colsample_bytree': 0.5656296878622898,\n",
    "    'reg_lambda': 3.8101081958287514e-05,\n",
    "    'reg_alpha': 0.0465945527577266,\n",
    "    'min_child_samples': 2,\n",
    "    'min_child_weight': 0.06250203857075702,\n",
    "    }"
   ]
  },
  {
   "cell_type": "code",
   "execution_count": 6,
   "id": "26119ed9-3c80-4cda-a0a2-0bca05ae526c",
   "metadata": {},
   "outputs": [
    {
     "name": "stdout",
     "output_type": "stream",
     "text": [
      "0.9333333333333333\n",
      "0.9541666666666666\n"
     ]
    }
   ],
   "source": [
    "# 10 fold cv\n",
    "roc_score = 0\n",
    "acc = 0\n",
    "test_preds = []\n",
    "for n_fold, (train_idx, valid_idx) in enumerate(folds.split(train[features], train['label'])):\n",
    "    train_x, train_y = train[features].iloc[train_idx], train['label'].iloc[train_idx]\n",
    "    valid_x, valid_y = train[features].iloc[valid_idx], train['label'].iloc[valid_idx]\n",
    "    \n",
    "    clf = lgb.LGBMClassifier(**params)\n",
    "    clf.fit(train_x,train_y)\n",
    "    pred = clf.predict(valid_x)\n",
    "    roc_score += roc_auc_score(valid_y, pred)/num_folds\n",
    "    acc += accuracy_score(valid_y, pred)/num_folds\n",
    "    test_pred = clf.predict(test[features])\n",
    "    test_pred = pd.DataFrame({'pred_{}'.format(n_fold): test_pred})\n",
    "    test_preds.append(test_pred)\n",
    "print(roc_score)\n",
    "print(acc)"
   ]
  },
  {
   "cell_type": "code",
   "execution_count": 7,
   "id": "ff10e063-634d-4a16-b313-ddbb36d86e48",
   "metadata": {},
   "outputs": [],
   "source": [
    "output_df = pd.concat(test_preds,axis=1)\n",
    "output_df['label'] = output_df.mean(axis=1)\n",
    "output_df['label'] = (output_df['label'] > 0.5).astype(np.int8)\n",
    "output_df = output_df[['label']]\n",
    "preds = pd.read_csv('sample_submission.csv')\n",
    "preds['label'] = output_df['label']\n",
    "preds.to_csv('submission_3.csv',index=False)"
   ]
  },
  {
   "cell_type": "code",
   "execution_count": null,
   "id": "e78543bb-4550-45c5-8321-29ebfcc5c47c",
   "metadata": {},
   "outputs": [],
   "source": []
  }
 ],
 "metadata": {
  "kernelspec": {
   "display_name": "Python [conda env:dgl]",
   "language": "python",
   "name": "conda-env-dgl-py"
  },
  "language_info": {
   "codemirror_mode": {
    "name": "ipython",
    "version": 3
   },
   "file_extension": ".py",
   "mimetype": "text/x-python",
   "name": "python",
   "nbconvert_exporter": "python",
   "pygments_lexer": "ipython3",
   "version": "3.7.11"
  }
 },
 "nbformat": 4,
 "nbformat_minor": 5
}

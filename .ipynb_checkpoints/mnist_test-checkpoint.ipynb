{
 "cells": [
  {
   "cell_type": "code",
   "execution_count": 1,
   "id": "276a7775-5209-4653-9d2a-f68322acff2d",
   "metadata": {},
   "outputs": [],
   "source": [
    "import pandas as pd\n",
    "from sklearn.utils import shuffle\n",
    "from sklearn.model_selection import train_test_split\n",
    "import tensorflow as tf\n",
    "from tensorflow.keras.optimizers import Adam\n",
    "from tensorflow.keras import layers, models"
   ]
  },
  {
   "cell_type": "code",
   "execution_count": 2,
   "id": "7ea0b9a4-2d4c-4b08-bbf7-a9ba9f2b03b1",
   "metadata": {},
   "outputs": [],
   "source": [
    "mnist = tf.keras.datasets.mnist\n",
    "\n",
    "(x_train, y_train), (x_test, y_test) = mnist.load_data()\n",
    "x_train, x_test = x_train / 255.0, x_test / 255.0\n"
   ]
  },
  {
   "cell_type": "code",
   "execution_count": 3,
   "id": "e9d5b7e9-f247-4ac0-8b02-6d99ba3af8ee",
   "metadata": {},
   "outputs": [],
   "source": [
    "# configurations\n",
    "lr = 0.02\n",
    "epochs = 5"
   ]
  },
  {
   "cell_type": "code",
   "execution_count": 4,
   "id": "ad27d94a-081a-4fc6-a8d8-cf2c65baa297",
   "metadata": {},
   "outputs": [],
   "source": [
    "model = tf.keras.Sequential([\n",
    "    tf.keras.layers.Flatten(input_shape=(28, 28)),\n",
    "    layers.Dense(32, activation='relu'),\n",
    "    layers.Dense(16, activation='relu'),\n",
    "    layers.Dense(10)\n",
    "])\n",
    "\n",
    "model.compile(loss = tf.keras.losses.SparseCategoricalCrossentropy(from_logits=True),\n",
    "             optimizer = tf.optimizers.Adam(learning_rate=lr),\n",
    "             metrics=['accuracy'])"
   ]
  },
  {
   "cell_type": "code",
   "execution_count": 5,
   "id": "16235ee7-1688-4423-bdce-55ced801b16a",
   "metadata": {},
   "outputs": [
    {
     "name": "stdout",
     "output_type": "stream",
     "text": [
      "Model: \"sequential\"\n",
      "_________________________________________________________________\n",
      "Layer (type)                 Output Shape              Param #   \n",
      "=================================================================\n",
      "flatten (Flatten)            (None, 784)               0         \n",
      "_________________________________________________________________\n",
      "dense (Dense)                (None, 32)                25120     \n",
      "_________________________________________________________________\n",
      "dense_1 (Dense)              (None, 16)                528       \n",
      "_________________________________________________________________\n",
      "dense_2 (Dense)              (None, 10)                170       \n",
      "=================================================================\n",
      "Total params: 25,818\n",
      "Trainable params: 25,818\n",
      "Non-trainable params: 0\n",
      "_________________________________________________________________\n"
     ]
    }
   ],
   "source": [
    "model.summary()"
   ]
  },
  {
   "cell_type": "code",
   "execution_count": 6,
   "id": "0cc5b856-dcb3-49a4-b189-fdfb60ba7001",
   "metadata": {},
   "outputs": [
    {
     "name": "stdout",
     "output_type": "stream",
     "text": [
      "Epoch 1/5\n",
      "1875/1875 [==============================] - 2s 971us/step - loss: 0.3680 - accuracy: 0.8975 - val_loss: 0.2863 - val_accuracy: 0.9242\n",
      "Epoch 2/5\n",
      "1875/1875 [==============================] - 2s 912us/step - loss: 0.2768 - accuracy: 0.9279 - val_loss: 0.2578 - val_accuracy: 0.9330\n",
      "Epoch 3/5\n",
      "1875/1875 [==============================] - 2s 872us/step - loss: 0.2630 - accuracy: 0.9328 - val_loss: 0.2433 - val_accuracy: 0.9363\n",
      "Epoch 4/5\n",
      "1875/1875 [==============================] - 2s 846us/step - loss: 0.2496 - accuracy: 0.9366 - val_loss: 0.2200 - val_accuracy: 0.9455\n",
      "Epoch 5/5\n",
      "1875/1875 [==============================] - 2s 891us/step - loss: 0.2415 - accuracy: 0.9406 - val_loss: 0.3451 - val_accuracy: 0.9296\n"
     ]
    },
    {
     "data": {
      "text/plain": [
       "<tensorflow.python.keras.callbacks.History at 0x1c4b00e1e08>"
      ]
     },
     "execution_count": 6,
     "metadata": {},
     "output_type": "execute_result"
    }
   ],
   "source": [
    "model.fit(x_train,y_train,epochs=epochs,validation_data=(x_test,y_test))"
   ]
  },
  {
   "cell_type": "code",
   "execution_count": null,
   "id": "cff9e248-dbd0-475d-9257-19c9f26b601f",
   "metadata": {},
   "outputs": [],
   "source": []
  }
 ],
 "metadata": {
  "kernelspec": {
   "display_name": "Python 3",
   "language": "python",
   "name": "python3"
  },
  "language_info": {
   "codemirror_mode": {
    "name": "ipython",
    "version": 3
   },
   "file_extension": ".py",
   "mimetype": "text/x-python",
   "name": "python",
   "nbconvert_exporter": "python",
   "pygments_lexer": "ipython3",
   "version": "3.7.11"
  }
 },
 "nbformat": 4,
 "nbformat_minor": 5
}

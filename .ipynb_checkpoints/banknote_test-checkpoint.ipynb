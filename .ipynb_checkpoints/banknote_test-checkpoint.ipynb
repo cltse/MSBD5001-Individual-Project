{
 "cells": [
  {
   "cell_type": "code",
   "execution_count": 2,
   "id": "276a7775-5209-4653-9d2a-f68322acff2d",
   "metadata": {},
   "outputs": [],
   "source": [
    "import pandas as pd\n",
    "from sklearn.utils import shuffle\n",
    "from sklearn.model_selection import train_test_split\n",
    "import tensorflow as tf\n",
    "from tensorflow.keras.optimizers import Adam\n",
    "from tensorflow.keras import layers, models\n",
    "import numpy as np"
   ]
  },
  {
   "cell_type": "code",
   "execution_count": 16,
   "id": "2076b66c-1111-4d6f-9ca1-b87678be95f9",
   "metadata": {},
   "outputs": [],
   "source": [
    "train = pd.read_csv('banknote.txt',names=[\"a\",\"b\",\"c\",\"d\"])"
   ]
  },
  {
   "cell_type": "code",
   "execution_count": 17,
   "id": "1dee57aa-b75a-44bf-be6c-458c7b240a53",
   "metadata": {},
   "outputs": [
    {
     "data": {
      "text/html": [
       "<div>\n",
       "<style scoped>\n",
       "    .dataframe tbody tr th:only-of-type {\n",
       "        vertical-align: middle;\n",
       "    }\n",
       "\n",
       "    .dataframe tbody tr th {\n",
       "        vertical-align: top;\n",
       "    }\n",
       "\n",
       "    .dataframe thead th {\n",
       "        text-align: right;\n",
       "    }\n",
       "</style>\n",
       "<table border=\"1\" class=\"dataframe\">\n",
       "  <thead>\n",
       "    <tr style=\"text-align: right;\">\n",
       "      <th></th>\n",
       "      <th>a</th>\n",
       "      <th>b</th>\n",
       "      <th>c</th>\n",
       "      <th>d</th>\n",
       "    </tr>\n",
       "  </thead>\n",
       "  <tbody>\n",
       "    <tr>\n",
       "      <th>3.62160</th>\n",
       "      <td>8.66610</td>\n",
       "      <td>-2.8073</td>\n",
       "      <td>-0.44699</td>\n",
       "      <td>0</td>\n",
       "    </tr>\n",
       "    <tr>\n",
       "      <th>4.54590</th>\n",
       "      <td>8.16740</td>\n",
       "      <td>-2.4586</td>\n",
       "      <td>-1.46210</td>\n",
       "      <td>0</td>\n",
       "    </tr>\n",
       "    <tr>\n",
       "      <th>3.86600</th>\n",
       "      <td>-2.63830</td>\n",
       "      <td>1.9242</td>\n",
       "      <td>0.10645</td>\n",
       "      <td>0</td>\n",
       "    </tr>\n",
       "    <tr>\n",
       "      <th>3.45660</th>\n",
       "      <td>9.52280</td>\n",
       "      <td>-4.0112</td>\n",
       "      <td>-3.59440</td>\n",
       "      <td>0</td>\n",
       "    </tr>\n",
       "    <tr>\n",
       "      <th>0.32924</th>\n",
       "      <td>-4.45520</td>\n",
       "      <td>4.5718</td>\n",
       "      <td>-0.98880</td>\n",
       "      <td>0</td>\n",
       "    </tr>\n",
       "    <tr>\n",
       "      <th>...</th>\n",
       "      <td>...</td>\n",
       "      <td>...</td>\n",
       "      <td>...</td>\n",
       "      <td>...</td>\n",
       "    </tr>\n",
       "    <tr>\n",
       "      <th>0.40614</th>\n",
       "      <td>1.34920</td>\n",
       "      <td>-1.4501</td>\n",
       "      <td>-0.55949</td>\n",
       "      <td>1</td>\n",
       "    </tr>\n",
       "    <tr>\n",
       "      <th>-1.38870</th>\n",
       "      <td>-4.87730</td>\n",
       "      <td>6.4774</td>\n",
       "      <td>0.34179</td>\n",
       "      <td>1</td>\n",
       "    </tr>\n",
       "    <tr>\n",
       "      <th>-3.75030</th>\n",
       "      <td>-13.45860</td>\n",
       "      <td>17.5932</td>\n",
       "      <td>-2.77710</td>\n",
       "      <td>1</td>\n",
       "    </tr>\n",
       "    <tr>\n",
       "      <th>-3.56370</th>\n",
       "      <td>-8.38270</td>\n",
       "      <td>12.3930</td>\n",
       "      <td>-1.28230</td>\n",
       "      <td>1</td>\n",
       "    </tr>\n",
       "    <tr>\n",
       "      <th>-2.54190</th>\n",
       "      <td>-0.65804</td>\n",
       "      <td>2.6842</td>\n",
       "      <td>1.19520</td>\n",
       "      <td>1</td>\n",
       "    </tr>\n",
       "  </tbody>\n",
       "</table>\n",
       "<p>1372 rows × 4 columns</p>\n",
       "</div>"
      ],
      "text/plain": [
       "                 a        b        c  d\n",
       " 3.62160   8.66610  -2.8073 -0.44699  0\n",
       " 4.54590   8.16740  -2.4586 -1.46210  0\n",
       " 3.86600  -2.63830   1.9242  0.10645  0\n",
       " 3.45660   9.52280  -4.0112 -3.59440  0\n",
       " 0.32924  -4.45520   4.5718 -0.98880  0\n",
       "...            ...      ...      ... ..\n",
       " 0.40614   1.34920  -1.4501 -0.55949  1\n",
       "-1.38870  -4.87730   6.4774  0.34179  1\n",
       "-3.75030 -13.45860  17.5932 -2.77710  1\n",
       "-3.56370  -8.38270  12.3930 -1.28230  1\n",
       "-2.54190  -0.65804   2.6842  1.19520  1\n",
       "\n",
       "[1372 rows x 4 columns]"
      ]
     },
     "execution_count": 17,
     "metadata": {},
     "output_type": "execute_result"
    }
   ],
   "source": [
    "train"
   ]
  },
  {
   "cell_type": "code",
   "execution_count": 18,
   "id": "0ea35a41-45f8-479c-b08f-06fd6e51d1a3",
   "metadata": {},
   "outputs": [],
   "source": [
    "train = shuffle(train, random_state=5001)"
   ]
  },
  {
   "cell_type": "code",
   "execution_count": 19,
   "id": "bdd5798c-90df-4cd1-b873-7e513b3e8b4d",
   "metadata": {},
   "outputs": [],
   "source": [
    "train.reset_index(inplace=True,drop=True)"
   ]
  },
  {
   "cell_type": "code",
   "execution_count": 20,
   "id": "e679b29c-0a52-4e0e-9673-43ee769d7f5f",
   "metadata": {},
   "outputs": [
    {
     "data": {
      "text/html": [
       "<div>\n",
       "<style scoped>\n",
       "    .dataframe tbody tr th:only-of-type {\n",
       "        vertical-align: middle;\n",
       "    }\n",
       "\n",
       "    .dataframe tbody tr th {\n",
       "        vertical-align: top;\n",
       "    }\n",
       "\n",
       "    .dataframe thead th {\n",
       "        text-align: right;\n",
       "    }\n",
       "</style>\n",
       "<table border=\"1\" class=\"dataframe\">\n",
       "  <thead>\n",
       "    <tr style=\"text-align: right;\">\n",
       "      <th></th>\n",
       "      <th>a</th>\n",
       "      <th>b</th>\n",
       "      <th>c</th>\n",
       "      <th>d</th>\n",
       "    </tr>\n",
       "  </thead>\n",
       "  <tbody>\n",
       "    <tr>\n",
       "      <th>0</th>\n",
       "      <td>1.77130</td>\n",
       "      <td>0.68946</td>\n",
       "      <td>-0.463800</td>\n",
       "      <td>1</td>\n",
       "    </tr>\n",
       "    <tr>\n",
       "      <th>1</th>\n",
       "      <td>9.76700</td>\n",
       "      <td>-1.36870</td>\n",
       "      <td>-1.785300</td>\n",
       "      <td>0</td>\n",
       "    </tr>\n",
       "    <tr>\n",
       "      <th>2</th>\n",
       "      <td>0.63940</td>\n",
       "      <td>5.98900</td>\n",
       "      <td>-0.582770</td>\n",
       "      <td>0</td>\n",
       "    </tr>\n",
       "    <tr>\n",
       "      <th>3</th>\n",
       "      <td>9.29520</td>\n",
       "      <td>-0.43642</td>\n",
       "      <td>-6.369400</td>\n",
       "      <td>1</td>\n",
       "    </tr>\n",
       "    <tr>\n",
       "      <th>4</th>\n",
       "      <td>0.11794</td>\n",
       "      <td>-1.68230</td>\n",
       "      <td>0.595240</td>\n",
       "      <td>1</td>\n",
       "    </tr>\n",
       "    <tr>\n",
       "      <th>...</th>\n",
       "      <td>...</td>\n",
       "      <td>...</td>\n",
       "      <td>...</td>\n",
       "      <td>...</td>\n",
       "    </tr>\n",
       "    <tr>\n",
       "      <th>1367</th>\n",
       "      <td>3.27770</td>\n",
       "      <td>-0.93510</td>\n",
       "      <td>-3.145700</td>\n",
       "      <td>1</td>\n",
       "    </tr>\n",
       "    <tr>\n",
       "      <th>1368</th>\n",
       "      <td>-9.28280</td>\n",
       "      <td>7.71900</td>\n",
       "      <td>-1.716800</td>\n",
       "      <td>1</td>\n",
       "    </tr>\n",
       "    <tr>\n",
       "      <th>1369</th>\n",
       "      <td>-3.93580</td>\n",
       "      <td>2.86330</td>\n",
       "      <td>-0.017686</td>\n",
       "      <td>0</td>\n",
       "    </tr>\n",
       "    <tr>\n",
       "      <th>1370</th>\n",
       "      <td>-2.07760</td>\n",
       "      <td>2.80930</td>\n",
       "      <td>0.606880</td>\n",
       "      <td>1</td>\n",
       "    </tr>\n",
       "    <tr>\n",
       "      <th>1371</th>\n",
       "      <td>0.44696</td>\n",
       "      <td>4.59070</td>\n",
       "      <td>-0.243980</td>\n",
       "      <td>0</td>\n",
       "    </tr>\n",
       "  </tbody>\n",
       "</table>\n",
       "<p>1372 rows × 4 columns</p>\n",
       "</div>"
      ],
      "text/plain": [
       "            a        b         c  d\n",
       "0     1.77130  0.68946 -0.463800  1\n",
       "1     9.76700 -1.36870 -1.785300  0\n",
       "2     0.63940  5.98900 -0.582770  0\n",
       "3     9.29520 -0.43642 -6.369400  1\n",
       "4     0.11794 -1.68230  0.595240  1\n",
       "...       ...      ...       ... ..\n",
       "1367  3.27770 -0.93510 -3.145700  1\n",
       "1368 -9.28280  7.71900 -1.716800  1\n",
       "1369 -3.93580  2.86330 -0.017686  0\n",
       "1370 -2.07760  2.80930  0.606880  1\n",
       "1371  0.44696  4.59070 -0.243980  0\n",
       "\n",
       "[1372 rows x 4 columns]"
      ]
     },
     "execution_count": 20,
     "metadata": {},
     "output_type": "execute_result"
    }
   ],
   "source": [
    "train"
   ]
  },
  {
   "cell_type": "code",
   "execution_count": 21,
   "id": "11cfe9f5-8de6-4291-9612-65e1d8bddba3",
   "metadata": {},
   "outputs": [],
   "source": [
    "y_train = train.pop(\"d\")\n",
    "x_train = train"
   ]
  },
  {
   "cell_type": "code",
   "execution_count": 22,
   "id": "6c8a24ec-7a8d-4770-bcff-5f8c493b6e9d",
   "metadata": {},
   "outputs": [],
   "source": [
    "X_train, X_test, y_train, y_test = train_test_split(x_train,y_train, test_size=0.2, random_state=5001)"
   ]
  },
  {
   "cell_type": "code",
   "execution_count": 23,
   "id": "45851df0-0fc4-4269-a720-037aad1d06b8",
   "metadata": {},
   "outputs": [
    {
     "name": "stdout",
     "output_type": "stream",
     "text": [
      "(1097, 3) (1097,) (275, 3) (275,)\n"
     ]
    }
   ],
   "source": [
    "print(X_train.shape,y_train.shape,X_test.shape,y_test.shape)"
   ]
  },
  {
   "cell_type": "code",
   "execution_count": 24,
   "id": "e9d5b7e9-f247-4ac0-8b02-6d99ba3af8ee",
   "metadata": {},
   "outputs": [],
   "source": [
    "# configurations\n",
    "lr = 0.001\n",
    "epochs = 15"
   ]
  },
  {
   "cell_type": "code",
   "execution_count": 25,
   "id": "b2612f0a-3cc6-4f01-a88c-75b1b4416450",
   "metadata": {},
   "outputs": [
    {
     "data": {
      "text/plain": [
       "(1372, 3)"
      ]
     },
     "execution_count": 25,
     "metadata": {},
     "output_type": "execute_result"
    }
   ],
   "source": [
    "x_train.shape"
   ]
  },
  {
   "cell_type": "code",
   "execution_count": 26,
   "id": "31a04a1a-f1ef-4ec0-b868-56fa83d0344a",
   "metadata": {},
   "outputs": [],
   "source": [
    "normalizer = tf.keras.layers.experimental.preprocessing.Normalization(axis=-1)"
   ]
  },
  {
   "cell_type": "code",
   "execution_count": 27,
   "id": "97db1a42-404a-45f7-b201-f7531a4228a1",
   "metadata": {},
   "outputs": [],
   "source": [
    "normalizer.adapt(np.array(x_train))"
   ]
  },
  {
   "cell_type": "code",
   "execution_count": 29,
   "id": "ad27d94a-081a-4fc6-a8d8-cf2c65baa297",
   "metadata": {},
   "outputs": [],
   "source": [
    "model = tf.keras.Sequential([\n",
    "    normalizer,\n",
    "    tf.keras.Input(shape=(3,)),\n",
    "    layers.Dense(32, activation='relu'),\n",
    "    layers.Dense(16, activation='relu'),\n",
    "    layers.Dense(1)\n",
    "])\n",
    "\n",
    "model.compile(loss = tf.losses.BinaryCrossentropy(from_logits=True),\n",
    "             optimizer = tf.optimizers.Adam(learning_rate=lr),\n",
    "             metrics=['accuracy'])"
   ]
  },
  {
   "cell_type": "code",
   "execution_count": 30,
   "id": "16235ee7-1688-4423-bdce-55ced801b16a",
   "metadata": {},
   "outputs": [
    {
     "name": "stdout",
     "output_type": "stream",
     "text": [
      "Model: \"sequential_1\"\n",
      "_________________________________________________________________\n",
      "Layer (type)                 Output Shape              Param #   \n",
      "=================================================================\n",
      "normalization (Normalization (None, 3)                 7         \n",
      "_________________________________________________________________\n",
      "input_2 (InputLayer)         multiple                  0         \n",
      "_________________________________________________________________\n",
      "dense_3 (Dense)              (None, 32)                128       \n",
      "_________________________________________________________________\n",
      "dense_4 (Dense)              (None, 16)                528       \n",
      "_________________________________________________________________\n",
      "dense_5 (Dense)              (None, 1)                 17        \n",
      "=================================================================\n",
      "Total params: 680\n",
      "Trainable params: 673\n",
      "Non-trainable params: 7\n",
      "_________________________________________________________________\n"
     ]
    }
   ],
   "source": [
    "model.summary()"
   ]
  },
  {
   "cell_type": "code",
   "execution_count": 31,
   "id": "0cc5b856-dcb3-49a4-b189-fdfb60ba7001",
   "metadata": {},
   "outputs": [
    {
     "name": "stdout",
     "output_type": "stream",
     "text": [
      "Epoch 1/15\n",
      "35/35 [==============================] - 0s 5ms/step - loss: 0.6887 - accuracy: 0.5488 - val_loss: 0.6461 - val_accuracy: 0.5818\n",
      "Epoch 2/15\n",
      "35/35 [==============================] - 0s 1ms/step - loss: 0.6198 - accuracy: 0.5725 - val_loss: 0.5742 - val_accuracy: 0.6436\n",
      "Epoch 3/15\n",
      "35/35 [==============================] - 0s 1ms/step - loss: 0.5472 - accuracy: 0.6664 - val_loss: 0.4882 - val_accuracy: 0.7745\n",
      "Epoch 4/15\n",
      "35/35 [==============================] - 0s 1ms/step - loss: 0.4756 - accuracy: 0.7557 - val_loss: 0.4214 - val_accuracy: 0.8145\n",
      "Epoch 5/15\n",
      "35/35 [==============================] - 0s 1ms/step - loss: 0.4224 - accuracy: 0.8058 - val_loss: 0.3707 - val_accuracy: 0.8291\n",
      "Epoch 6/15\n",
      "35/35 [==============================] - 0s 1ms/step - loss: 0.3910 - accuracy: 0.8131 - val_loss: 0.3418 - val_accuracy: 0.8255\n",
      "Epoch 7/15\n",
      "35/35 [==============================] - 0s 1ms/step - loss: 0.3683 - accuracy: 0.8222 - val_loss: 0.3221 - val_accuracy: 0.8255\n",
      "Epoch 8/15\n",
      "35/35 [==============================] - 0s 1ms/step - loss: 0.3537 - accuracy: 0.8314 - val_loss: 0.3115 - val_accuracy: 0.8473\n",
      "Epoch 9/15\n",
      "35/35 [==============================] - 0s 1ms/step - loss: 0.3431 - accuracy: 0.8259 - val_loss: 0.2967 - val_accuracy: 0.8655\n",
      "Epoch 10/15\n",
      "35/35 [==============================] - 0s 1ms/step - loss: 0.3371 - accuracy: 0.8177 - val_loss: 0.2912 - val_accuracy: 0.8618\n",
      "Epoch 11/15\n",
      "35/35 [==============================] - 0s 1ms/step - loss: 0.3274 - accuracy: 0.8341 - val_loss: 0.2829 - val_accuracy: 0.8727\n",
      "Epoch 12/15\n",
      "35/35 [==============================] - 0s 1ms/step - loss: 0.3210 - accuracy: 0.8359 - val_loss: 0.2805 - val_accuracy: 0.8691\n",
      "Epoch 13/15\n",
      "35/35 [==============================] - 0s 1ms/step - loss: 0.3146 - accuracy: 0.8350 - val_loss: 0.2741 - val_accuracy: 0.8727\n",
      "Epoch 14/15\n",
      "35/35 [==============================] - ETA: 0s - loss: 0.3006 - accuracy: 0.81 - 0s 1ms/step - loss: 0.3102 - accuracy: 0.8459 - val_loss: 0.2719 - val_accuracy: 0.8691\n",
      "Epoch 15/15\n",
      "35/35 [==============================] - 0s 1ms/step - loss: 0.3073 - accuracy: 0.8450 - val_loss: 0.2642 - val_accuracy: 0.8836\n"
     ]
    },
    {
     "data": {
      "text/plain": [
       "<tensorflow.python.keras.callbacks.History at 0x12f2d376b08>"
      ]
     },
     "execution_count": 31,
     "metadata": {},
     "output_type": "execute_result"
    }
   ],
   "source": [
    "model.fit(X_train,y_train,epochs=epochs,validation_data=(X_test,y_test))"
   ]
  },
  {
   "cell_type": "code",
   "execution_count": null,
   "id": "d60ad13a-e820-4337-91f1-f3ef02667b9f",
   "metadata": {},
   "outputs": [],
   "source": []
  }
 ],
 "metadata": {
  "kernelspec": {
   "display_name": "Python 3",
   "language": "python",
   "name": "python3"
  },
  "language_info": {
   "codemirror_mode": {
    "name": "ipython",
    "version": 3
   },
   "file_extension": ".py",
   "mimetype": "text/x-python",
   "name": "python",
   "nbconvert_exporter": "python",
   "pygments_lexer": "ipython3",
   "version": "3.7.11"
  }
 },
 "nbformat": 4,
 "nbformat_minor": 5
}

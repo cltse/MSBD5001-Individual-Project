{
 "cells": [
  {
   "cell_type": "code",
   "execution_count": 1,
   "id": "276a7775-5209-4653-9d2a-f68322acff2d",
   "metadata": {},
   "outputs": [],
   "source": [
    "import pandas as pd\n",
    "from sklearn.utils import shuffle\n",
    "from sklearn.model_selection import train_test_split\n",
    "import numpy as np\n",
    "from sklearn.ensemble import RandomForestClassifier\n",
    "from xgboost import XGBClassifier\n",
    "from sklearn.metrics import accuracy_score, confusion_matrix, classification_report"
   ]
  },
  {
   "cell_type": "code",
   "execution_count": 2,
   "id": "2076b66c-1111-4d6f-9ca1-b87678be95f9",
   "metadata": {},
   "outputs": [],
   "source": [
    "train = pd.read_csv('train.csv',index_col=0)\n",
    "test = pd.read_csv('test.csv',index_col=0)"
   ]
  },
  {
   "cell_type": "code",
   "execution_count": 3,
   "id": "9bf7f163-3b06-4097-83b6-5c3c47476f88",
   "metadata": {},
   "outputs": [],
   "source": [
    "train.fillna(train.mean(), inplace=True)"
   ]
  },
  {
   "cell_type": "code",
   "execution_count": 4,
   "id": "0ea35a41-45f8-479c-b08f-06fd6e51d1a3",
   "metadata": {},
   "outputs": [],
   "source": [
    "train = shuffle(train, random_state=5001)"
   ]
  },
  {
   "cell_type": "code",
   "execution_count": 5,
   "id": "bdd5798c-90df-4cd1-b873-7e513b3e8b4d",
   "metadata": {},
   "outputs": [],
   "source": [
    "train.reset_index(inplace=True,drop=True)"
   ]
  },
  {
   "cell_type": "code",
   "execution_count": 6,
   "id": "11cfe9f5-8de6-4291-9612-65e1d8bddba3",
   "metadata": {},
   "outputs": [],
   "source": [
    "y_train = train.pop(\"label\")\n",
    "x_train = train"
   ]
  },
  {
   "cell_type": "code",
   "execution_count": 7,
   "id": "6c8a24ec-7a8d-4770-bcff-5f8c493b6e9d",
   "metadata": {},
   "outputs": [],
   "source": [
    "X_train, X_test, y_train, y_test = train_test_split(x_train,y_train, test_size=0.2, random_state=5001)"
   ]
  },
  {
   "cell_type": "code",
   "execution_count": 8,
   "id": "45851df0-0fc4-4269-a720-037aad1d06b8",
   "metadata": {},
   "outputs": [
    {
     "name": "stdout",
     "output_type": "stream",
     "text": [
      "(69, 11) (69,) (18, 11) (18,)\n"
     ]
    }
   ],
   "source": [
    "print(X_train.shape,y_train.shape,X_test.shape,y_test.shape)"
   ]
  },
  {
   "cell_type": "code",
   "execution_count": 9,
   "id": "4342693d-27e8-4900-94e0-e69bf96dc48a",
   "metadata": {},
   "outputs": [
    {
     "name": "stderr",
     "output_type": "stream",
     "text": [
      "C:\\Users\\USER\\anaconda3\\lib\\site-packages\\xgboost\\sklearn.py:1224: UserWarning: The use of label encoder in XGBClassifier is deprecated and will be removed in a future release. To remove this warning, do the following: 1) Pass option use_label_encoder=False when constructing XGBClassifier object; and 2) Encode your labels (y) as integers starting with 0, i.e. 0, 1, 2, ..., [num_class - 1].\n",
      "  warnings.warn(label_encoder_deprecation_msg, UserWarning)\n"
     ]
    },
    {
     "name": "stdout",
     "output_type": "stream",
     "text": [
      "[21:04:44] WARNING: C:/Users/Administrator/workspace/xgboost-win64_release_1.5.1/src/learner.cc:1115: Starting in XGBoost 1.3.0, the default evaluation metric used with the objective 'binary:logistic' was changed from 'error' to 'logloss'. Explicitly set eval_metric if you'd like to restore the old behavior.\n",
      "accuracy:\n",
      "0.8888888888888888\n",
      "classification report:\n",
      "              precision    recall  f1-score   support\n",
      "\n",
      "           0       0.92      0.92      0.92        13\n",
      "           1       0.80      0.80      0.80         5\n",
      "\n",
      "    accuracy                           0.89        18\n",
      "   macro avg       0.86      0.86      0.86        18\n",
      "weighted avg       0.89      0.89      0.89        18\n",
      "\n",
      "confusion matrix:\n",
      "[[12  1]\n",
      " [ 1  4]]\n"
     ]
    }
   ],
   "source": [
    "# model training\n",
    "xgb = XGBClassifier(n_estimators=100, learning_rate= 0.1, tree_method='gpu_hist',scale_pos_weight=2,alpha =1,max_depth = 10)\n",
    "xgb.fit(X_train, y_train)\n",
    "pred = xgb.predict(X_test)\n",
    "print(\"accuracy:\")\n",
    "print(accuracy_score(y_test, pred))\n",
    "print(\"classification report:\")\n",
    "print(classification_report(y_test, pred))\n",
    "print(\"confusion matrix:\")\n",
    "print(confusion_matrix(y_test, pred))"
   ]
  },
  {
   "cell_type": "code",
   "execution_count": null,
   "id": "2c1ff7e0-845c-47dc-acee-a600b347c7b9",
   "metadata": {},
   "outputs": [],
   "source": []
  }
 ],
 "metadata": {
  "kernelspec": {
   "display_name": "Python 3",
   "language": "python",
   "name": "python3"
  },
  "language_info": {
   "codemirror_mode": {
    "name": "ipython",
    "version": 3
   },
   "file_extension": ".py",
   "mimetype": "text/x-python",
   "name": "python",
   "nbconvert_exporter": "python",
   "pygments_lexer": "ipython3",
   "version": "3.7.11"
  }
 },
 "nbformat": 4,
 "nbformat_minor": 5
}

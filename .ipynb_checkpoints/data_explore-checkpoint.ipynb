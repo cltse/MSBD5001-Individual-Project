{
 "cells": [
  {
   "cell_type": "code",
   "execution_count": 28,
   "id": "276a7775-5209-4653-9d2a-f68322acff2d",
   "metadata": {},
   "outputs": [],
   "source": [
    "import pandas as pd\n",
    "from sklearn.utils import shuffle\n",
    "from sklearn.model_selection import train_test_split\n",
    "import tensorflow as tf\n",
    "from tensorflow.keras.optimizers import Adam\n",
    "from tensorflow.keras import layers, models\n",
    "import numpy as np\n",
    "from tensorflow.keras.callbacks import ModelCheckpoint\n",
    "from sklearn.metrics import accuracy_score, confusion_matrix, classification_report"
   ]
  },
  {
   "cell_type": "code",
   "execution_count": 29,
   "id": "2076b66c-1111-4d6f-9ca1-b87678be95f9",
   "metadata": {},
   "outputs": [],
   "source": [
    "train = pd.read_csv('train.csv',index_col=0)\n",
    "test = pd.read_csv('test.csv',index_col=0)"
   ]
  },
  {
   "cell_type": "code",
   "execution_count": 30,
   "id": "84b1466b-518c-480e-842b-f4c1f2456b31",
   "metadata": {},
   "outputs": [
    {
     "data": {
      "text/html": [
       "<div>\n",
       "<style scoped>\n",
       "    .dataframe tbody tr th:only-of-type {\n",
       "        vertical-align: middle;\n",
       "    }\n",
       "\n",
       "    .dataframe tbody tr th {\n",
       "        vertical-align: top;\n",
       "    }\n",
       "\n",
       "    .dataframe thead th {\n",
       "        text-align: right;\n",
       "    }\n",
       "</style>\n",
       "<table border=\"1\" class=\"dataframe\">\n",
       "  <thead>\n",
       "    <tr style=\"text-align: right;\">\n",
       "      <th></th>\n",
       "      <th>MO HLADR+ MFI (cells/ul)</th>\n",
       "      <th>Neu CD64+MFI (cells/ul)</th>\n",
       "      <th>CD3+T (cells/ul)</th>\n",
       "      <th>CD8+T (cells/ul)</th>\n",
       "      <th>CD4+T (cells/ul)</th>\n",
       "      <th>NK (cells/ul)</th>\n",
       "      <th>CD19+ (cells/ul)</th>\n",
       "      <th>CD45+ (cells/ul)</th>\n",
       "      <th>Age</th>\n",
       "      <th>Sex 0M1F</th>\n",
       "      <th>Mono CD64+MFI (cells/ul)</th>\n",
       "      <th>label</th>\n",
       "    </tr>\n",
       "    <tr>\n",
       "      <th>id</th>\n",
       "      <th></th>\n",
       "      <th></th>\n",
       "      <th></th>\n",
       "      <th></th>\n",
       "      <th></th>\n",
       "      <th></th>\n",
       "      <th></th>\n",
       "      <th></th>\n",
       "      <th></th>\n",
       "      <th></th>\n",
       "      <th></th>\n",
       "      <th></th>\n",
       "    </tr>\n",
       "  </thead>\n",
       "  <tbody>\n",
       "    <tr>\n",
       "      <th>39</th>\n",
       "      <td>NaN</td>\n",
       "      <td>NaN</td>\n",
       "      <td>1336.54</td>\n",
       "      <td>739.71</td>\n",
       "      <td>550.3</td>\n",
       "      <td>68.46</td>\n",
       "      <td>192.07</td>\n",
       "      <td>1615.68</td>\n",
       "      <td>21</td>\n",
       "      <td>0</td>\n",
       "      <td>NaN</td>\n",
       "      <td>0</td>\n",
       "    </tr>\n",
       "  </tbody>\n",
       "</table>\n",
       "</div>"
      ],
      "text/plain": [
       "    MO HLADR+ MFI (cells/ul)  Neu CD64+MFI (cells/ul)  CD3+T (cells/ul)  \\\n",
       "id                                                                        \n",
       "39                       NaN                      NaN           1336.54   \n",
       "\n",
       "    CD8+T (cells/ul)  CD4+T (cells/ul)  NK (cells/ul)  CD19+ (cells/ul)  \\\n",
       "id                                                                        \n",
       "39            739.71             550.3          68.46            192.07   \n",
       "\n",
       "    CD45+ (cells/ul)  Age  Sex 0M1F  Mono CD64+MFI (cells/ul)  label  \n",
       "id                                                                    \n",
       "39           1615.68   21         0                       NaN      0  "
      ]
     },
     "execution_count": 30,
     "metadata": {},
     "output_type": "execute_result"
    }
   ],
   "source": [
    "train[train.isna().any(axis=1)]"
   ]
  },
  {
   "cell_type": "code",
   "execution_count": 31,
   "id": "e76669fd-8870-4d39-85aa-e574eeacd3bc",
   "metadata": {},
   "outputs": [
    {
     "data": {
      "text/html": [
       "<div>\n",
       "<style scoped>\n",
       "    .dataframe tbody tr th:only-of-type {\n",
       "        vertical-align: middle;\n",
       "    }\n",
       "\n",
       "    .dataframe tbody tr th {\n",
       "        vertical-align: top;\n",
       "    }\n",
       "\n",
       "    .dataframe thead th {\n",
       "        text-align: right;\n",
       "    }\n",
       "</style>\n",
       "<table border=\"1\" class=\"dataframe\">\n",
       "  <thead>\n",
       "    <tr style=\"text-align: right;\">\n",
       "      <th></th>\n",
       "      <th>MO HLADR+ MFI (cells/ul)</th>\n",
       "      <th>Neu CD64+MFI (cells/ul)</th>\n",
       "      <th>CD3+T (cells/ul)</th>\n",
       "      <th>CD8+T (cells/ul)</th>\n",
       "      <th>CD4+T (cells/ul)</th>\n",
       "      <th>NK (cells/ul)</th>\n",
       "      <th>CD19+ (cells/ul)</th>\n",
       "      <th>CD45+ (cells/ul)</th>\n",
       "      <th>Age</th>\n",
       "      <th>Sex 0M1F</th>\n",
       "      <th>Mono CD64+MFI (cells/ul)</th>\n",
       "    </tr>\n",
       "    <tr>\n",
       "      <th>id</th>\n",
       "      <th></th>\n",
       "      <th></th>\n",
       "      <th></th>\n",
       "      <th></th>\n",
       "      <th></th>\n",
       "      <th></th>\n",
       "      <th></th>\n",
       "      <th></th>\n",
       "      <th></th>\n",
       "      <th></th>\n",
       "      <th></th>\n",
       "    </tr>\n",
       "  </thead>\n",
       "  <tbody>\n",
       "  </tbody>\n",
       "</table>\n",
       "</div>"
      ],
      "text/plain": [
       "Empty DataFrame\n",
       "Columns: [MO HLADR+ MFI (cells/ul), Neu CD64+MFI (cells/ul), CD3+T (cells/ul), CD8+T (cells/ul), CD4+T (cells/ul), NK (cells/ul), CD19+ (cells/ul), CD45+ (cells/ul), Age, Sex 0M1F, Mono CD64+MFI (cells/ul)]\n",
       "Index: []"
      ]
     },
     "execution_count": 31,
     "metadata": {},
     "output_type": "execute_result"
    }
   ],
   "source": [
    "test[test.isna().any(axis=1)]"
   ]
  },
  {
   "cell_type": "code",
   "execution_count": 3,
   "id": "9bf7f163-3b06-4097-83b6-5c3c47476f88",
   "metadata": {},
   "outputs": [],
   "source": [
    "train.fillna(train.mean(), inplace=True)"
   ]
  },
  {
   "cell_type": "code",
   "execution_count": 4,
   "id": "0ea35a41-45f8-479c-b08f-06fd6e51d1a3",
   "metadata": {},
   "outputs": [],
   "source": [
    "train = shuffle(train, random_state=5001)"
   ]
  },
  {
   "cell_type": "code",
   "execution_count": 5,
   "id": "bdd5798c-90df-4cd1-b873-7e513b3e8b4d",
   "metadata": {},
   "outputs": [],
   "source": [
    "train.reset_index(inplace=True,drop=True)"
   ]
  },
  {
   "cell_type": "code",
   "execution_count": 6,
   "id": "11cfe9f5-8de6-4291-9612-65e1d8bddba3",
   "metadata": {},
   "outputs": [],
   "source": [
    "y_train = train.pop(\"label\")\n",
    "x_train = train"
   ]
  },
  {
   "cell_type": "code",
   "execution_count": 7,
   "id": "780de648-5bd1-485a-aae0-cd4f406614aa",
   "metadata": {},
   "outputs": [
    {
     "data": {
      "text/plain": [
       "0    58\n",
       "1    29\n",
       "Name: label, dtype: int64"
      ]
     },
     "execution_count": 7,
     "metadata": {},
     "output_type": "execute_result"
    }
   ],
   "source": [
    "y_train.value_counts()"
   ]
  },
  {
   "cell_type": "code",
   "execution_count": 8,
   "id": "6c8a24ec-7a8d-4770-bcff-5f8c493b6e9d",
   "metadata": {},
   "outputs": [],
   "source": [
    "X_train, X_test, y_train, y_test = train_test_split(x_train,y_train, test_size=0.2, random_state=5001)"
   ]
  },
  {
   "cell_type": "code",
   "execution_count": 9,
   "id": "45851df0-0fc4-4269-a720-037aad1d06b8",
   "metadata": {},
   "outputs": [
    {
     "name": "stdout",
     "output_type": "stream",
     "text": [
      "(69, 11) (69,) (18, 11) (18,)\n"
     ]
    }
   ],
   "source": [
    "print(X_train.shape,y_train.shape,X_test.shape,y_test.shape)"
   ]
  },
  {
   "cell_type": "code",
   "execution_count": 10,
   "id": "e9d5b7e9-f247-4ac0-8b02-6d99ba3af8ee",
   "metadata": {},
   "outputs": [],
   "source": [
    "# configurations\n",
    "lr = 0.01\n",
    "batch_size = 8\n",
    "epochs = 15"
   ]
  },
  {
   "cell_type": "code",
   "execution_count": 11,
   "id": "b2612f0a-3cc6-4f01-a88c-75b1b4416450",
   "metadata": {},
   "outputs": [
    {
     "data": {
      "text/plain": [
       "(87, 11)"
      ]
     },
     "execution_count": 11,
     "metadata": {},
     "output_type": "execute_result"
    }
   ],
   "source": [
    "x_train.shape"
   ]
  },
  {
   "cell_type": "code",
   "execution_count": 12,
   "id": "31a04a1a-f1ef-4ec0-b868-56fa83d0344a",
   "metadata": {},
   "outputs": [],
   "source": [
    "normalizer = tf.keras.layers.experimental.preprocessing.Normalization(axis=-1)"
   ]
  },
  {
   "cell_type": "code",
   "execution_count": 13,
   "id": "97db1a42-404a-45f7-b201-f7531a4228a1",
   "metadata": {},
   "outputs": [],
   "source": [
    "normalizer.adapt(np.array(x_train))"
   ]
  },
  {
   "cell_type": "code",
   "execution_count": 14,
   "id": "ad27d94a-081a-4fc6-a8d8-cf2c65baa297",
   "metadata": {},
   "outputs": [],
   "source": [
    "model = tf.keras.Sequential([\n",
    "    normalizer,\n",
    "    tf.keras.Input(shape=(11,)),\n",
    "    layers.Dense(64, activation='relu'),\n",
    "    layers.Dropout(0.1),\n",
    "    # layers.BatchNormalization(),\n",
    "    # layers.Dense(16, activation='relu'),\n",
    "    # layers.Dropout(0.1),\n",
    "    layers.Dense(1)\n",
    "])\n",
    "checkpoint_filepath = \"model_weights.hdf5\"\n",
    "optimizer = Adam(learning_rate=lr)\n",
    "checkpointer = ModelCheckpoint(\n",
    "    filepath=checkpoint_filepath,\n",
    "    monitor=\"val_accuracy\",\n",
    "    verbose=0,\n",
    "    save_best_only=True)\n",
    "criterion = tf.losses.BinaryCrossentropy(from_logits=True)\n",
    "\n",
    "model.compile(loss = criterion,\n",
    "             optimizer = optimizer,\n",
    "             metrics=['accuracy'])"
   ]
  },
  {
   "cell_type": "code",
   "execution_count": 15,
   "id": "16235ee7-1688-4423-bdce-55ced801b16a",
   "metadata": {},
   "outputs": [
    {
     "name": "stdout",
     "output_type": "stream",
     "text": [
      "Model: \"sequential\"\n",
      "_________________________________________________________________\n",
      "Layer (type)                 Output Shape              Param #   \n",
      "=================================================================\n",
      "normalization (Normalization (None, 11)                23        \n",
      "_________________________________________________________________\n",
      "input_1 (InputLayer)         multiple                  0         \n",
      "_________________________________________________________________\n",
      "dense (Dense)                (None, 64)                768       \n",
      "_________________________________________________________________\n",
      "dropout (Dropout)            (None, 64)                0         \n",
      "_________________________________________________________________\n",
      "dense_1 (Dense)              (None, 1)                 65        \n",
      "=================================================================\n",
      "Total params: 856\n",
      "Trainable params: 833\n",
      "Non-trainable params: 23\n",
      "_________________________________________________________________\n"
     ]
    }
   ],
   "source": [
    "model.summary()"
   ]
  },
  {
   "cell_type": "code",
   "execution_count": 16,
   "id": "0cc5b856-dcb3-49a4-b189-fdfb60ba7001",
   "metadata": {},
   "outputs": [
    {
     "name": "stdout",
     "output_type": "stream",
     "text": [
      "Epoch 1/15\n",
      "9/9 [==============================] - 0s 16ms/step - loss: 0.5952 - accuracy: 0.7536 - val_loss: 0.4806 - val_accuracy: 0.7778\n",
      "Epoch 2/15\n",
      "9/9 [==============================] - 0s 4ms/step - loss: 0.3900 - accuracy: 0.8986 - val_loss: 0.3639 - val_accuracy: 0.8333\n",
      "Epoch 3/15\n",
      "9/9 [==============================] - 0s 3ms/step - loss: 0.3107 - accuracy: 0.8841 - val_loss: 0.3310 - val_accuracy: 0.8333\n",
      "Epoch 4/15\n",
      "9/9 [==============================] - 0s 3ms/step - loss: 0.2875 - accuracy: 0.9130 - val_loss: 0.3170 - val_accuracy: 0.8333\n",
      "Epoch 5/15\n",
      "9/9 [==============================] - 0s 3ms/step - loss: 0.2514 - accuracy: 0.9130 - val_loss: 0.2963 - val_accuracy: 0.8333\n",
      "Epoch 6/15\n",
      "9/9 [==============================] - 0s 3ms/step - loss: 0.2388 - accuracy: 0.8986 - val_loss: 0.2901 - val_accuracy: 0.8333\n",
      "Epoch 7/15\n",
      "9/9 [==============================] - 0s 4ms/step - loss: 0.2262 - accuracy: 0.9275 - val_loss: 0.2728 - val_accuracy: 0.8889\n",
      "Epoch 8/15\n",
      "9/9 [==============================] - 0s 3ms/step - loss: 0.2187 - accuracy: 0.9130 - val_loss: 0.2584 - val_accuracy: 0.8333\n",
      "Epoch 9/15\n",
      "9/9 [==============================] - 0s 3ms/step - loss: 0.1992 - accuracy: 0.9275 - val_loss: 0.2539 - val_accuracy: 0.8333\n",
      "Epoch 10/15\n",
      "9/9 [==============================] - 0s 4ms/step - loss: 0.1937 - accuracy: 0.9420 - val_loss: 0.2621 - val_accuracy: 0.9444\n",
      "Epoch 11/15\n",
      "9/9 [==============================] - 0s 3ms/step - loss: 0.1942 - accuracy: 0.9420 - val_loss: 0.2503 - val_accuracy: 0.8889\n",
      "Epoch 12/15\n",
      "9/9 [==============================] - 0s 3ms/step - loss: 0.1626 - accuracy: 0.9420 - val_loss: 0.2741 - val_accuracy: 0.8889\n",
      "Epoch 13/15\n",
      "9/9 [==============================] - 0s 3ms/step - loss: 0.1586 - accuracy: 0.9565 - val_loss: 0.2735 - val_accuracy: 0.9444\n",
      "Epoch 14/15\n",
      "9/9 [==============================] - 0s 2ms/step - loss: 0.1460 - accuracy: 0.9565 - val_loss: 0.2852 - val_accuracy: 0.9444\n",
      "Epoch 15/15\n",
      "9/9 [==============================] - 0s 3ms/step - loss: 0.1403 - accuracy: 0.9275 - val_loss: 0.2938 - val_accuracy: 0.8889\n"
     ]
    }
   ],
   "source": [
    "history = model.fit(X_train,y_train,epochs=epochs,validation_data=(X_test,y_test),batch_size=batch_size,callbacks=[checkpointer])"
   ]
  },
  {
   "cell_type": "code",
   "execution_count": 17,
   "id": "2b1c9aeb-4bf7-473b-914b-712de7fe277c",
   "metadata": {},
   "outputs": [],
   "source": [
    "model.load_weights(checkpoint_filepath)"
   ]
  },
  {
   "cell_type": "code",
   "execution_count": 18,
   "id": "3cfa7dad-14c3-4cc0-ab02-7ce44a33c8ed",
   "metadata": {},
   "outputs": [
    {
     "name": "stdout",
     "output_type": "stream",
     "text": [
      "1/1 [==============================] - 0s 1ms/step - loss: 0.2621 - accuracy: 0.9444\n"
     ]
    },
    {
     "data": {
      "text/plain": [
       "[0.2621140778064728, 0.9444444179534912]"
      ]
     },
     "execution_count": 18,
     "metadata": {},
     "output_type": "execute_result"
    }
   ],
   "source": [
    "model.evaluate(X_test,y_test)"
   ]
  },
  {
   "cell_type": "code",
   "execution_count": 19,
   "id": "c7602f67-1218-4bac-b51d-bececb596cfb",
   "metadata": {},
   "outputs": [],
   "source": [
    "y_pred = model.predict(X_test)"
   ]
  },
  {
   "cell_type": "code",
   "execution_count": 20,
   "id": "0e032a18-6c16-4a0c-9dcf-8bae2f7b3dcc",
   "metadata": {},
   "outputs": [
    {
     "data": {
      "text/plain": [
       "array([[-2.5328207 ],\n",
       "       [-1.9307722 ],\n",
       "       [-2.8147402 ],\n",
       "       [ 3.0649352 ],\n",
       "       [ 0.3405013 ],\n",
       "       [-3.1917264 ],\n",
       "       [19.39797   ],\n",
       "       [-3.1704817 ],\n",
       "       [ 0.54546916],\n",
       "       [-1.7840283 ],\n",
       "       [-1.9195632 ],\n",
       "       [-2.8315578 ],\n",
       "       [-3.3995829 ],\n",
       "       [ 0.6168875 ],\n",
       "       [-5.0360856 ],\n",
       "       [-1.6847272 ],\n",
       "       [-3.4277778 ],\n",
       "       [-3.09892   ]], dtype=float32)"
      ]
     },
     "execution_count": 20,
     "metadata": {},
     "output_type": "execute_result"
    }
   ],
   "source": [
    "y_pred"
   ]
  },
  {
   "cell_type": "code",
   "execution_count": 21,
   "id": "c736ecb4-f562-4acc-a9d3-7f4dfa131def",
   "metadata": {},
   "outputs": [
    {
     "data": {
      "text/plain": [
       "83    0\n",
       "49    0\n",
       "2     0\n",
       "20    1\n",
       "53    0\n",
       "11    0\n",
       "19    1\n",
       "0     0\n",
       "15    1\n",
       "62    0\n",
       "51    1\n",
       "61    0\n",
       "72    0\n",
       "38    1\n",
       "24    0\n",
       "23    0\n",
       "80    0\n",
       "84    0\n",
       "Name: label, dtype: int64"
      ]
     },
     "execution_count": 21,
     "metadata": {},
     "output_type": "execute_result"
    }
   ],
   "source": [
    "y_test"
   ]
  },
  {
   "cell_type": "code",
   "execution_count": 22,
   "id": "648fa371-045f-4698-b897-333177c9e6fd",
   "metadata": {},
   "outputs": [],
   "source": [
    "pred_model = tf.keras.Sequential([\n",
    "    model,\n",
    "    tf.keras.layers.Activation('sigmoid')\n",
    "])\n",
    "pred_model.compile()"
   ]
  },
  {
   "cell_type": "code",
   "execution_count": 23,
   "id": "82558547-cc26-455d-b864-7dc508c0ba2f",
   "metadata": {},
   "outputs": [
    {
     "data": {
      "text/plain": [
       "<tf.Tensor: shape=(18, 1), dtype=float32, numpy=\n",
       "array([[0.07358912],\n",
       "       [0.12666512],\n",
       "       [0.0565328 ],\n",
       "       [0.955423  ],\n",
       "       [0.5843123 ],\n",
       "       [0.03947824],\n",
       "       [1.        ],\n",
       "       [0.04029176],\n",
       "       [0.6330837 ],\n",
       "       [0.14380646],\n",
       "       [0.12791026],\n",
       "       [0.05564246],\n",
       "       [0.03230852],\n",
       "       [0.6495104 ],\n",
       "       [0.00645715],\n",
       "       [0.1564705 ],\n",
       "       [0.03143853],\n",
       "       [0.04315183]], dtype=float32)>"
      ]
     },
     "execution_count": 23,
     "metadata": {},
     "output_type": "execute_result"
    }
   ],
   "source": [
    "y_sigmoid = pred_model(X_test)\n",
    "y_sigmoid"
   ]
  },
  {
   "cell_type": "code",
   "execution_count": 24,
   "id": "2218309b-fd8f-4c7d-8bcf-c2e4ab0f72ca",
   "metadata": {},
   "outputs": [],
   "source": [
    "threshold = 0.5"
   ]
  },
  {
   "cell_type": "code",
   "execution_count": 25,
   "id": "8700d677-69f0-4d59-8290-4364dbf70a40",
   "metadata": {},
   "outputs": [
    {
     "data": {
      "text/plain": [
       "<tf.Tensor: shape=(18,), dtype=int32, numpy=array([0, 0, 0, 1, 1, 0, 1, 0, 1, 0, 0, 0, 0, 1, 0, 0, 0, 0])>"
      ]
     },
     "execution_count": 25,
     "metadata": {},
     "output_type": "execute_result"
    }
   ],
   "source": [
    "output = tf.squeeze(tf.where(y_sigmoid > threshold, 1, 0),-1)\n",
    "output"
   ]
  },
  {
   "cell_type": "code",
   "execution_count": 26,
   "id": "14d13250-f56c-4adf-8cb1-7b2813b814dd",
   "metadata": {},
   "outputs": [
    {
     "data": {
      "text/plain": [
       "0.8888888888888888"
      ]
     },
     "execution_count": 26,
     "metadata": {},
     "output_type": "execute_result"
    }
   ],
   "source": [
    "np.mean(np.equal(output,y_test))"
   ]
  },
  {
   "cell_type": "code",
   "execution_count": 27,
   "id": "f0d186b9-d329-4aea-aab2-0b4e023d54ce",
   "metadata": {},
   "outputs": [
    {
     "name": "stdout",
     "output_type": "stream",
     "text": [
      "accuracy:\n",
      "0.8888888888888888\n",
      "classification report:\n",
      "              precision    recall  f1-score   support\n",
      "\n",
      "           0       0.92      0.92      0.92        13\n",
      "           1       0.80      0.80      0.80         5\n",
      "\n",
      "    accuracy                           0.89        18\n",
      "   macro avg       0.86      0.86      0.86        18\n",
      "weighted avg       0.89      0.89      0.89        18\n",
      "\n",
      "confusion matrix:\n",
      "[[12  1]\n",
      " [ 1  4]]\n"
     ]
    }
   ],
   "source": [
    "print(\"accuracy:\")\n",
    "print(accuracy_score(y_test, output))\n",
    "print(\"classification report:\")\n",
    "print(classification_report(y_test, output))\n",
    "print(\"confusion matrix:\")\n",
    "print(confusion_matrix(y_test, output))"
   ]
  },
  {
   "cell_type": "code",
   "execution_count": null,
   "id": "eefedc6b-0754-4adf-9fef-bd31b0db570f",
   "metadata": {},
   "outputs": [],
   "source": []
  }
 ],
 "metadata": {
  "kernelspec": {
   "display_name": "Python 3",
   "language": "python",
   "name": "python3"
  },
  "language_info": {
   "codemirror_mode": {
    "name": "ipython",
    "version": 3
   },
   "file_extension": ".py",
   "mimetype": "text/x-python",
   "name": "python",
   "nbconvert_exporter": "python",
   "pygments_lexer": "ipython3",
   "version": "3.7.11"
  }
 },
 "nbformat": 4,
 "nbformat_minor": 5
}

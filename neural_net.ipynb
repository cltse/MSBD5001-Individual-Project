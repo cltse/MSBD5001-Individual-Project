{
 "cells": [
  {
   "cell_type": "code",
   "execution_count": 1,
   "id": "276a7775-5209-4653-9d2a-f68322acff2d",
   "metadata": {},
   "outputs": [],
   "source": [
    "import pandas as pd\n",
    "from sklearn.utils import shuffle\n",
    "from sklearn.model_selection import train_test_split\n",
    "import tensorflow as tf\n",
    "from tensorflow.keras.optimizers import Adam\n",
    "from tensorflow.keras import layers, models\n",
    "import numpy as np\n",
    "from tensorflow.keras.callbacks import ModelCheckpoint\n",
    "from sklearn.metrics import accuracy_score, confusion_matrix, classification_report"
   ]
  },
  {
   "cell_type": "code",
   "execution_count": 2,
   "id": "2076b66c-1111-4d6f-9ca1-b87678be95f9",
   "metadata": {},
   "outputs": [],
   "source": [
    "train = pd.read_csv('train.csv',index_col=0)\n",
    "test = pd.read_csv('test.csv',index_col=0)"
   ]
  },
  {
   "cell_type": "code",
   "execution_count": 3,
   "id": "9bf7f163-3b06-4097-83b6-5c3c47476f88",
   "metadata": {},
   "outputs": [],
   "source": [
    "train.fillna(train.mean(), inplace=True)"
   ]
  },
  {
   "cell_type": "code",
   "execution_count": 4,
   "id": "0ea35a41-45f8-479c-b08f-06fd6e51d1a3",
   "metadata": {},
   "outputs": [],
   "source": [
    "train = shuffle(train, random_state=5001)"
   ]
  },
  {
   "cell_type": "code",
   "execution_count": 5,
   "id": "bdd5798c-90df-4cd1-b873-7e513b3e8b4d",
   "metadata": {},
   "outputs": [],
   "source": [
    "train.reset_index(inplace=True,drop=True)"
   ]
  },
  {
   "cell_type": "code",
   "execution_count": 6,
   "id": "11cfe9f5-8de6-4291-9612-65e1d8bddba3",
   "metadata": {},
   "outputs": [],
   "source": [
    "y_train = train.pop(\"label\")\n",
    "x_train = train"
   ]
  },
  {
   "cell_type": "code",
   "execution_count": 7,
   "id": "780de648-5bd1-485a-aae0-cd4f406614aa",
   "metadata": {},
   "outputs": [
    {
     "data": {
      "text/plain": [
       "0    58\n",
       "1    29\n",
       "Name: label, dtype: int64"
      ]
     },
     "execution_count": 7,
     "metadata": {},
     "output_type": "execute_result"
    }
   ],
   "source": [
    "y_train.value_counts()"
   ]
  },
  {
   "cell_type": "code",
   "execution_count": 8,
   "id": "e9d5b7e9-f247-4ac0-8b02-6d99ba3af8ee",
   "metadata": {},
   "outputs": [],
   "source": [
    "# configurations\n",
    "lr = 0.01\n",
    "batch_size = 8\n",
    "epochs = 11"
   ]
  },
  {
   "cell_type": "code",
   "execution_count": 9,
   "id": "b2612f0a-3cc6-4f01-a88c-75b1b4416450",
   "metadata": {},
   "outputs": [
    {
     "data": {
      "text/plain": [
       "(87, 11)"
      ]
     },
     "execution_count": 9,
     "metadata": {},
     "output_type": "execute_result"
    }
   ],
   "source": [
    "x_train.shape"
   ]
  },
  {
   "cell_type": "code",
   "execution_count": 10,
   "id": "31a04a1a-f1ef-4ec0-b868-56fa83d0344a",
   "metadata": {},
   "outputs": [],
   "source": [
    "normalizer = tf.keras.layers.experimental.preprocessing.Normalization(axis=-1)"
   ]
  },
  {
   "cell_type": "code",
   "execution_count": 11,
   "id": "97db1a42-404a-45f7-b201-f7531a4228a1",
   "metadata": {},
   "outputs": [],
   "source": [
    "normalizer.adapt(np.array(x_train))"
   ]
  },
  {
   "cell_type": "code",
   "execution_count": 12,
   "id": "ad27d94a-081a-4fc6-a8d8-cf2c65baa297",
   "metadata": {},
   "outputs": [],
   "source": [
    "model = tf.keras.Sequential([\n",
    "    normalizer,\n",
    "    tf.keras.Input(shape=(11,)),\n",
    "    layers.Dense(64, activation='relu'),\n",
    "    layers.Dropout(0.1),\n",
    "    layers.Dense(1)\n",
    "])\n",
    "checkpoint_filepath = \"model_weights_2.hdf5\"\n",
    "optimizer = Adam(learning_rate=lr)\n",
    "checkpointer = ModelCheckpoint(\n",
    "    filepath=checkpoint_filepath,\n",
    "    monitor=\"loss\",\n",
    "    verbose=0,\n",
    "    save_best_only=False)\n",
    "criterion = tf.losses.BinaryCrossentropy(from_logits=True)\n",
    "\n",
    "model.compile(loss = criterion,\n",
    "             optimizer = optimizer,\n",
    "             metrics=['accuracy'])"
   ]
  },
  {
   "cell_type": "code",
   "execution_count": 13,
   "id": "16235ee7-1688-4423-bdce-55ced801b16a",
   "metadata": {},
   "outputs": [
    {
     "name": "stdout",
     "output_type": "stream",
     "text": [
      "Model: \"sequential\"\n",
      "_________________________________________________________________\n",
      "Layer (type)                 Output Shape              Param #   \n",
      "=================================================================\n",
      "normalization (Normalization (None, 11)                23        \n",
      "_________________________________________________________________\n",
      "input_1 (InputLayer)         multiple                  0         \n",
      "_________________________________________________________________\n",
      "dense (Dense)                (None, 64)                768       \n",
      "_________________________________________________________________\n",
      "dropout (Dropout)            (None, 64)                0         \n",
      "_________________________________________________________________\n",
      "dense_1 (Dense)              (None, 1)                 65        \n",
      "=================================================================\n",
      "Total params: 856\n",
      "Trainable params: 833\n",
      "Non-trainable params: 23\n",
      "_________________________________________________________________\n"
     ]
    }
   ],
   "source": [
    "model.summary()"
   ]
  },
  {
   "cell_type": "code",
   "execution_count": 14,
   "id": "0cc5b856-dcb3-49a4-b189-fdfb60ba7001",
   "metadata": {},
   "outputs": [
    {
     "name": "stdout",
     "output_type": "stream",
     "text": [
      "Epoch 1/11\n",
      "11/11 [==============================] - 0s 2ms/step - loss: 0.5080 - accuracy: 0.7471\n",
      "Epoch 2/11\n",
      "11/11 [==============================] - 0s 2ms/step - loss: 0.3497 - accuracy: 0.8966\n",
      "Epoch 3/11\n",
      "11/11 [==============================] - 0s 2ms/step - loss: 0.2896 - accuracy: 0.9195\n",
      "Epoch 4/11\n",
      "11/11 [==============================] - 0s 2ms/step - loss: 0.2651 - accuracy: 0.8851\n",
      "Epoch 5/11\n",
      "11/11 [==============================] - 0s 2ms/step - loss: 0.2392 - accuracy: 0.8966\n",
      "Epoch 6/11\n",
      "11/11 [==============================] - 0s 2ms/step - loss: 0.2352 - accuracy: 0.9080\n",
      "Epoch 7/11\n",
      "11/11 [==============================] - 0s 2ms/step - loss: 0.2288 - accuracy: 0.8966\n",
      "Epoch 8/11\n",
      "11/11 [==============================] - 0s 3ms/step - loss: 0.2134 - accuracy: 0.9080\n",
      "Epoch 9/11\n",
      "11/11 [==============================] - 0s 2ms/step - loss: 0.1813 - accuracy: 0.9310\n",
      "Epoch 10/11\n",
      "11/11 [==============================] - 0s 2ms/step - loss: 0.1753 - accuracy: 0.9310\n",
      "Epoch 11/11\n",
      "11/11 [==============================] - 0s 3ms/step - loss: 0.1700 - accuracy: 0.9195\n"
     ]
    }
   ],
   "source": [
    "history = model.fit(x_train,y_train,epochs=epochs,batch_size=batch_size,callbacks=[checkpointer])"
   ]
  },
  {
   "cell_type": "code",
   "execution_count": 15,
   "id": "2b1c9aeb-4bf7-473b-914b-712de7fe277c",
   "metadata": {},
   "outputs": [],
   "source": [
    "model.load_weights(checkpoint_filepath)"
   ]
  },
  {
   "cell_type": "code",
   "execution_count": 17,
   "id": "c7602f67-1218-4bac-b51d-bececb596cfb",
   "metadata": {},
   "outputs": [],
   "source": [
    "pred = model.predict(x_train)"
   ]
  },
  {
   "cell_type": "code",
   "execution_count": 18,
   "id": "648fa371-045f-4698-b897-333177c9e6fd",
   "metadata": {},
   "outputs": [],
   "source": [
    "pred_model = tf.keras.Sequential([\n",
    "    model,\n",
    "    tf.keras.layers.Activation('sigmoid')\n",
    "])\n",
    "pred_model.compile()"
   ]
  },
  {
   "cell_type": "code",
   "execution_count": 26,
   "id": "82558547-cc26-455d-b864-7dc508c0ba2f",
   "metadata": {},
   "outputs": [],
   "source": [
    "y_sigmoid = pred_model(x_train)"
   ]
  },
  {
   "cell_type": "code",
   "execution_count": 27,
   "id": "2218309b-fd8f-4c7d-8bcf-c2e4ab0f72ca",
   "metadata": {},
   "outputs": [],
   "source": [
    "threshold = 0.5"
   ]
  },
  {
   "cell_type": "code",
   "execution_count": 28,
   "id": "8700d677-69f0-4d59-8290-4364dbf70a40",
   "metadata": {},
   "outputs": [
    {
     "data": {
      "text/plain": [
       "<tf.Tensor: shape=(87,), dtype=int32, numpy=\n",
       "array([0, 1, 0, 1, 0, 0, 1, 1, 0, 0, 0, 0, 0, 1, 0, 1, 0, 1, 0, 1, 1, 1,\n",
       "       0, 0, 0, 0, 1, 0, 0, 1, 0, 0, 0, 0, 1, 0, 0, 1, 0, 0, 1, 0, 0, 0,\n",
       "       0, 1, 1, 0, 1, 0, 1, 0, 1, 0, 0, 0, 0, 0, 0, 0, 0, 0, 0, 0, 0, 0,\n",
       "       0, 0, 0, 0, 0, 0, 0, 1, 0, 1, 0, 1, 0, 0, 0, 0, 0, 0, 0, 0, 0])>"
      ]
     },
     "execution_count": 28,
     "metadata": {},
     "output_type": "execute_result"
    }
   ],
   "source": [
    "output = tf.squeeze(tf.where(y_sigmoid > threshold, 1, 0),-1)\n",
    "output"
   ]
  },
  {
   "cell_type": "code",
   "execution_count": 32,
   "id": "eefedc6b-0754-4adf-9fef-bd31b0db570f",
   "metadata": {},
   "outputs": [
    {
     "data": {
      "text/plain": [
       "0.9310344827586207"
      ]
     },
     "execution_count": 32,
     "metadata": {},
     "output_type": "execute_result"
    }
   ],
   "source": [
    "np.mean(np.equal(y_train,output))"
   ]
  },
  {
   "cell_type": "code",
   "execution_count": 33,
   "id": "8e051034-4662-440b-96e1-bad094c09f7c",
   "metadata": {},
   "outputs": [],
   "source": [
    "y_pred = pred_model(test)"
   ]
  },
  {
   "cell_type": "code",
   "execution_count": 34,
   "id": "6e4387a5-4b49-48f9-8fd8-8d8c758e7fa7",
   "metadata": {},
   "outputs": [
    {
     "data": {
      "text/plain": [
       "<tf.Tensor: shape=(59,), dtype=int32, numpy=\n",
       "array([0, 0, 0, 0, 0, 0, 0, 0, 0, 0, 0, 1, 0, 0, 0, 0, 0, 0, 0, 0, 1, 0,\n",
       "       0, 0, 0, 1, 0, 0, 1, 0, 1, 1, 0, 1, 0, 0, 0, 1, 1, 0, 1, 0, 0, 0,\n",
       "       0, 0, 0, 1, 0, 0, 0, 0, 0, 0, 0, 0, 0, 0, 1])>"
      ]
     },
     "execution_count": 34,
     "metadata": {},
     "output_type": "execute_result"
    }
   ],
   "source": [
    "pred_output = tf.squeeze(tf.where(y_pred > threshold, 1, 0),-1)\n",
    "pred_output"
   ]
  },
  {
   "cell_type": "code",
   "execution_count": 43,
   "id": "fea0a041-a893-4e26-9aec-f75063bbd2d1",
   "metadata": {},
   "outputs": [],
   "source": [
    "pred_output = pred_output.numpy()"
   ]
  },
  {
   "cell_type": "code",
   "execution_count": 44,
   "id": "233faf46-5108-47dd-b860-fa03fa499d8a",
   "metadata": {},
   "outputs": [
    {
     "data": {
      "text/plain": [
       "array([0, 0, 0, 0, 0, 0, 0, 0, 0, 0, 0, 1, 0, 0, 0, 0, 0, 0, 0, 0, 1, 0,\n",
       "       0, 0, 0, 1, 0, 0, 1, 0, 1, 1, 0, 1, 0, 0, 0, 1, 1, 0, 1, 0, 0, 0,\n",
       "       0, 0, 0, 1, 0, 0, 0, 0, 0, 0, 0, 0, 0, 0, 1])"
      ]
     },
     "execution_count": 44,
     "metadata": {},
     "output_type": "execute_result"
    }
   ],
   "source": [
    "pred_output"
   ]
  },
  {
   "cell_type": "code",
   "execution_count": 39,
   "id": "2afcf52c-2e2a-4b4e-82d2-475ca2709e7e",
   "metadata": {},
   "outputs": [],
   "source": [
    "df = pd.read_csv('sample_submission.csv',index_col=0)"
   ]
  },
  {
   "cell_type": "code",
   "execution_count": 46,
   "id": "a7d83240-2d61-4d88-beb5-fbeb296410fe",
   "metadata": {},
   "outputs": [],
   "source": [
    "for i in range(len(pred_output)):\n",
    "    df.iat[i,0] = pred_output[i]"
   ]
  },
  {
   "cell_type": "code",
   "execution_count": 48,
   "id": "46135b96-a507-4a57-abb0-e3c9116d58f0",
   "metadata": {},
   "outputs": [],
   "source": [
    "df.to_csv('submission.csv')"
   ]
  },
  {
   "cell_type": "code",
   "execution_count": null,
   "id": "1724e3e1-d219-498d-b202-5918a3869b5a",
   "metadata": {},
   "outputs": [],
   "source": []
  }
 ],
 "metadata": {
  "kernelspec": {
   "display_name": "Python 3",
   "language": "python",
   "name": "python3"
  },
  "language_info": {
   "codemirror_mode": {
    "name": "ipython",
    "version": 3
   },
   "file_extension": ".py",
   "mimetype": "text/x-python",
   "name": "python",
   "nbconvert_exporter": "python",
   "pygments_lexer": "ipython3",
   "version": "3.7.11"
  }
 },
 "nbformat": 4,
 "nbformat_minor": 5
}

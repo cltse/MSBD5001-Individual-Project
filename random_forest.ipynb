{
 "cells": [
  {
   "cell_type": "code",
   "execution_count": 1,
   "id": "276a7775-5209-4653-9d2a-f68322acff2d",
   "metadata": {},
   "outputs": [],
   "source": [
    "import pandas as pd\n",
    "from sklearn.utils import shuffle\n",
    "from sklearn.model_selection import train_test_split\n",
    "import numpy as np\n",
    "from sklearn.ensemble import RandomForestClassifier\n",
    "from sklearn.metrics import accuracy_score, confusion_matrix, classification_report"
   ]
  },
  {
   "cell_type": "code",
   "execution_count": 2,
   "id": "2076b66c-1111-4d6f-9ca1-b87678be95f9",
   "metadata": {},
   "outputs": [],
   "source": [
    "train = pd.read_csv('train.csv',index_col=0)\n",
    "test = pd.read_csv('test.csv',index_col=0)"
   ]
  },
  {
   "cell_type": "code",
   "execution_count": 3,
   "id": "9bf7f163-3b06-4097-83b6-5c3c47476f88",
   "metadata": {},
   "outputs": [],
   "source": [
    "train.fillna(train.mean(), inplace=True)"
   ]
  },
  {
   "cell_type": "code",
   "execution_count": 4,
   "id": "0ea35a41-45f8-479c-b08f-06fd6e51d1a3",
   "metadata": {},
   "outputs": [],
   "source": [
    "train = shuffle(train, random_state=5001)"
   ]
  },
  {
   "cell_type": "code",
   "execution_count": 5,
   "id": "bdd5798c-90df-4cd1-b873-7e513b3e8b4d",
   "metadata": {},
   "outputs": [],
   "source": [
    "train.reset_index(inplace=True,drop=True)"
   ]
  },
  {
   "cell_type": "code",
   "execution_count": 6,
   "id": "11cfe9f5-8de6-4291-9612-65e1d8bddba3",
   "metadata": {},
   "outputs": [],
   "source": [
    "y_train = train.pop(\"label\")\n",
    "x_train = train"
   ]
  },
  {
   "cell_type": "code",
   "execution_count": 7,
   "id": "6c8a24ec-7a8d-4770-bcff-5f8c493b6e9d",
   "metadata": {},
   "outputs": [],
   "source": [
    "X_train, X_test, y_train, y_test = train_test_split(x_train,y_train, test_size=0.2, random_state=5001)"
   ]
  },
  {
   "cell_type": "code",
   "execution_count": 8,
   "id": "45851df0-0fc4-4269-a720-037aad1d06b8",
   "metadata": {},
   "outputs": [
    {
     "name": "stdout",
     "output_type": "stream",
     "text": [
      "(69, 11) (69,) (18, 11) (18,)\n"
     ]
    }
   ],
   "source": [
    "print(X_train.shape,y_train.shape,X_test.shape,y_test.shape)"
   ]
  },
  {
   "cell_type": "code",
   "execution_count": 9,
   "id": "f0d186b9-d329-4aea-aab2-0b4e023d54ce",
   "metadata": {},
   "outputs": [],
   "source": [
    "clf = RandomForestClassifier(n_estimators=100,max_depth=10, random_state=5001)"
   ]
  },
  {
   "cell_type": "code",
   "execution_count": 10,
   "id": "33d5ccf7-0e62-4703-9cc6-04a8930f02de",
   "metadata": {},
   "outputs": [
    {
     "data": {
      "text/plain": [
       "RandomForestClassifier(max_depth=10, random_state=5001)"
      ]
     },
     "execution_count": 10,
     "metadata": {},
     "output_type": "execute_result"
    }
   ],
   "source": [
    "clf.fit(X_train, y_train)"
   ]
  },
  {
   "cell_type": "code",
   "execution_count": 11,
   "id": "9af1805b-e557-4c15-8823-318481588ede",
   "metadata": {},
   "outputs": [
    {
     "data": {
      "text/plain": [
       "array([0, 0, 0, 1, 0, 0, 1, 0, 1, 0, 0, 0, 0, 0, 0, 0, 0, 0], dtype=int64)"
      ]
     },
     "execution_count": 11,
     "metadata": {},
     "output_type": "execute_result"
    }
   ],
   "source": [
    "pred = clf.predict(X_test)\n",
    "pred"
   ]
  },
  {
   "cell_type": "code",
   "execution_count": 12,
   "id": "d2e513a4-b59e-464e-8ee2-313e7e8273ab",
   "metadata": {},
   "outputs": [
    {
     "name": "stdout",
     "output_type": "stream",
     "text": [
      "accuracy:\n",
      "0.8888888888888888\n",
      "classification report:\n",
      "              precision    recall  f1-score   support\n",
      "\n",
      "           0       0.87      1.00      0.93        13\n",
      "           1       1.00      0.60      0.75         5\n",
      "\n",
      "    accuracy                           0.89        18\n",
      "   macro avg       0.93      0.80      0.84        18\n",
      "weighted avg       0.90      0.89      0.88        18\n",
      "\n",
      "confusion matrix:\n",
      "[[13  0]\n",
      " [ 2  3]]\n"
     ]
    }
   ],
   "source": [
    "print(\"accuracy:\")\n",
    "print(accuracy_score(y_test, pred))\n",
    "print(\"classification report:\")\n",
    "print(classification_report(y_test, pred))\n",
    "print(\"confusion matrix:\")\n",
    "print(confusion_matrix(y_test, pred))"
   ]
  },
  {
   "cell_type": "code",
   "execution_count": null,
   "id": "4342693d-27e8-4900-94e0-e69bf96dc48a",
   "metadata": {},
   "outputs": [],
   "source": []
  }
 ],
 "metadata": {
  "kernelspec": {
   "display_name": "Python 3",
   "language": "python",
   "name": "python3"
  },
  "language_info": {
   "codemirror_mode": {
    "name": "ipython",
    "version": 3
   },
   "file_extension": ".py",
   "mimetype": "text/x-python",
   "name": "python",
   "nbconvert_exporter": "python",
   "pygments_lexer": "ipython3",
   "version": "3.7.11"
  }
 },
 "nbformat": 4,
 "nbformat_minor": 5
}

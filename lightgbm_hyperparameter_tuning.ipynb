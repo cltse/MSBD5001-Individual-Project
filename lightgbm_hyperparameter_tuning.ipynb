{
 "cells": [
  {
   "cell_type": "code",
   "execution_count": 1,
   "id": "c9d59591-05a9-4373-b227-3b240e029b35",
   "metadata": {},
   "outputs": [],
   "source": [
    "import pandas as pd\n",
    "import time\n",
    "import lightgbm as lgb\n",
    "from sklearn.metrics import roc_auc_score\n",
    "import warnings\n",
    "warnings.filterwarnings(\"ignore\")\n",
    "import pprint\n",
    "# Skopt functions\n",
    "from skopt import BayesSearchCV\n",
    "from skopt.callbacks import DeadlineStopper, DeltaYStopper\n",
    "from skopt.space import Real, Integer\n",
    "from sklearn.metrics import make_scorer\n",
    "from sklearn.model_selection import KFold, StratifiedKFold"
   ]
  },
  {
   "cell_type": "code",
   "execution_count": 2,
   "id": "4021c838-ae03-4f59-b762-baad4ed3a3c2",
   "metadata": {},
   "outputs": [],
   "source": [
    "train = pd.read_csv('train.csv',index_col=0)\n",
    "test = pd.read_csv('test.csv',index_col=0)"
   ]
  },
  {
   "cell_type": "code",
   "execution_count": 3,
   "id": "c84b96d2-a50e-4320-a681-bf2ed814cd65",
   "metadata": {
    "tags": []
   },
   "outputs": [],
   "source": [
    "# feature augmentation based on lgbm feature importance\n",
    "gen_feats = [(1, 5),\n",
    "             (0, 1),\n",
    "             (2, 1),\n",
    "             (1, 3),\n",
    "             (2, 5),\n",
    "             (0, 2),\n",
    "             (0, 5),\n",
    "             (4, 1),\n",
    "             (5, 4),\n",
    "             (3, 5),\n",
    "             (0, 4)]\n",
    "for i in range(6):\n",
    "    for j in range(6):\n",
    "        if (i,j) in gen_feats:\n",
    "            train['gen_{}_{}'.format(i,j)] = train.iloc[:,i]/train.iloc[:,j]\n",
    "            test['gen_{}_{}'.format(i,j)] = test.iloc[:,i]/test.iloc[:,j]"
   ]
  },
  {
   "cell_type": "code",
   "execution_count": 4,
   "id": "61b63154-082d-41dd-b835-f7b95be0600b",
   "metadata": {},
   "outputs": [],
   "source": [
    "# get training features\n",
    "features = [col for col in train.columns if col != 'label']\n",
    "num_folds = 10\n",
    "folds = StratifiedKFold(n_splits= num_folds, shuffle=True, random_state=5001)"
   ]
  },
  {
   "cell_type": "code",
   "execution_count": 5,
   "id": "fd8120f0-03d0-4561-8121-f0ef5d3755ff",
   "metadata": {},
   "outputs": [],
   "source": [
    "num_folds = 10\n",
    "folds = StratifiedKFold(n_splits= num_folds, shuffle=True, random_state=5001)\n",
    "# folds = KFold(n_splits= num_folds, shuffle=True, random_state=5001)"
   ]
  },
  {
   "cell_type": "code",
   "execution_count": 6,
   "id": "76e07905-5deb-4daa-ab1e-1862dcd65a0e",
   "metadata": {},
   "outputs": [],
   "source": [
    "# Reporting util for different optimizers\n",
    "def report_perf(optimizer, X, y, title=\"model\", callbacks=None):\n",
    "    \"\"\"\n",
    "    A wrapper for measuring time and performances of different optmizers\n",
    "    \n",
    "    optimizer = a sklearn or a skopt optimizer\n",
    "    X = the training set \n",
    "    y = our target\n",
    "    title = a string label for the experiment\n",
    "    \"\"\"\n",
    "    start = time.time()\n",
    "    \n",
    "    if callbacks is not None:\n",
    "        optimizer.fit(X, y, callback=callbacks)\n",
    "    else:\n",
    "        optimizer.fit(X, y)\n",
    "        \n",
    "    d=pd.DataFrame(optimizer.cv_results_)\n",
    "    best_score = optimizer.best_score_\n",
    "    best_score_std = d.iloc[optimizer.best_index_].std_test_score\n",
    "    best_params = optimizer.best_params_\n",
    "    \n",
    "    print((title + \" took %.2f seconds,  candidates checked: %d, best CV score: %.3f \"\n",
    "           + u\"\\u00B1\"+\" %.3f\") % (time.time() - start, \n",
    "                                   len(optimizer.cv_results_['params']),\n",
    "                                   best_score,\n",
    "                                   best_score_std))    \n",
    "    print('Best parameters:')\n",
    "    pprint.pprint(best_params)\n",
    "    print()\n",
    "    return best_params"
   ]
  },
  {
   "cell_type": "code",
   "execution_count": 7,
   "id": "d9903f7c-21a1-46be-b719-2efc1be51dda",
   "metadata": {
    "tags": []
   },
   "outputs": [],
   "source": [
    "scoring = make_scorer(roc_auc_score, greater_is_better=True)\n",
    "cv_strategy = list(folds.split(train[features], train['label']))\n",
    "\n",
    "params = {\n",
    "    'boosting_type': 'gbdt', \n",
    "    'objective': 'binary', \n",
    "    'metric': 'auc',\n",
    "    'device_type': 'cpu',\n",
    "    'random_state': 5001,\n",
    "    'verbose': -1,\n",
    "    }\n",
    "\n",
    "clf = lgb.LGBMClassifier(**params)"
   ]
  },
  {
   "cell_type": "code",
   "execution_count": 8,
   "id": "ed892015-3dea-4f93-aa6f-aa6fccb60666",
   "metadata": {},
   "outputs": [],
   "source": [
    "# search space\n",
    "search_spaces = {\n",
    "    'learning_rate': Real(0.001, 1.0, 'log-uniform'),\n",
    "    'n_estimators': Integer(30, 500),\n",
    "    'num_leaves': Integer(2, 100),\n",
    "    'max_depth': Integer(-1, 10),\n",
    "    'subsample': Real(0.2, 1.0, 'uniform'),\n",
    "    'subsample_freq': Integer(1, 10),\n",
    "    'colsample_bytree': Real(0.2, 1.0, 'uniform'),\n",
    "    'reg_lambda': Real(1e-5, 10.0, 'log-uniform'),\n",
    "    'reg_alpha': Real(1e-5, 10.0, 'log-uniform'),\n",
    "    'min_child_samples': Integer(1, 15),\n",
    "    'min_child_weight': Real(1e-5, 10.0, 'log-uniform'),\n",
    "   }\n",
    "\n",
    "# bayesian optimizer\n",
    "opt = BayesSearchCV(estimator=clf,                                    \n",
    "                    search_spaces=search_spaces,                      \n",
    "                    scoring=scoring,                           \n",
    "                    cv=cv_strategy,                                           \n",
    "                    n_iter=100,\n",
    "                    n_points=3,\n",
    "                    n_jobs=-1,\n",
    "                    iid=False,\n",
    "                    return_train_score=False,                         \n",
    "                    refit=False,                                      \n",
    "                    optimizer_kwargs={'base_estimator': 'GP'},\n",
    "                    random_state=5001)"
   ]
  },
  {
   "cell_type": "code",
   "execution_count": 9,
   "id": "884798ed-3767-48ec-8795-dbd3cdfa9302",
   "metadata": {},
   "outputs": [
    {
     "name": "stdout",
     "output_type": "stream",
     "text": [
      "LightGBM_Classifier took 13.80 seconds,  candidates checked: 21, best CV score: 0.933 ± 0.082\n",
      "Best parameters:\n",
      "OrderedDict([('colsample_bytree', 0.5656296878622898),\n",
      "             ('learning_rate', 0.0266903682740756),\n",
      "             ('max_depth', 0),\n",
      "             ('min_child_samples', 2),\n",
      "             ('min_child_weight', 0.06250203857075702),\n",
      "             ('n_estimators', 130),\n",
      "             ('num_leaves', 57),\n",
      "             ('reg_alpha', 0.0465945527577266),\n",
      "             ('reg_lambda', 3.8101081958287514e-05),\n",
      "             ('subsample', 0.6042971686279393),\n",
      "             ('subsample_freq', 6)])\n",
      "\n"
     ]
    }
   ],
   "source": [
    "# running the optimizer\n",
    "overdone_control = DeltaYStopper(delta=0.0001)\n",
    "time_limit_control = DeadlineStopper(total_time=60 * 60 * 0.5)\n",
    "\n",
    "best_params = report_perf(opt, train[features], train['label'],'LightGBM_Classifier', \n",
    "                          callbacks=[overdone_control, time_limit_control])"
   ]
  },
  {
   "cell_type": "code",
   "execution_count": 10,
   "id": "c3cbb0e3-4d64-4310-9736-a4624f1040fc",
   "metadata": {},
   "outputs": [],
   "source": [
    "# best params from search\n",
    "params = {\n",
    "    'boosting_type': 'gbdt', \n",
    "    'objective': 'binary', \n",
    "    'metric': 'auc',\n",
    "    'device_type': 'cpu',\n",
    "    'random_state': 5001,\n",
    "    'verbose': -1,\n",
    "    'learning_rate': 0.0266903682740756,\n",
    "    'n_estimators': 130,\n",
    "    'num_leaves': 57,\n",
    "    'max_depth': -1,\n",
    "    'subsample': 0.6042971686279393,\n",
    "    'subsample_freq': 6,\n",
    "    'colsample_bytree': 0.5656296878622898,\n",
    "    'reg_lambda': 3.8101081958287514e-05,\n",
    "    'reg_alpha': 0.0465945527577266,\n",
    "    'min_child_samples': 2,\n",
    "    'min_child_weight': 0.06250203857075702,\n",
    "    }"
   ]
  },
  {
   "cell_type": "code",
   "execution_count": null,
   "id": "d618e5d9-c0c8-4519-90ab-3f7ff4ed46cd",
   "metadata": {},
   "outputs": [],
   "source": []
  }
 ],
 "metadata": {
  "kernelspec": {
   "display_name": "Python [conda env:dgl]",
   "language": "python",
   "name": "conda-env-dgl-py"
  },
  "language_info": {
   "codemirror_mode": {
    "name": "ipython",
    "version": 3
   },
   "file_extension": ".py",
   "mimetype": "text/x-python",
   "name": "python",
   "nbconvert_exporter": "python",
   "pygments_lexer": "ipython3",
   "version": "3.7.11"
  }
 },
 "nbformat": 4,
 "nbformat_minor": 5
}
